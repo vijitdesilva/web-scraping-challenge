{
 "cells": [
  {
   "cell_type": "code",
   "execution_count": 1,
   "metadata": {},
   "outputs": [
    {
     "name": "stdout",
     "output_type": "stream",
     "text": [
      "Requirement already satisfied: webdriver-manager in c:\\users\\viji\\.conda\\envs\\pythondata\\lib\\site-packages (3.3.0)Note: you may need to restart the kernel to use updated packages.\n",
      "Requirement already satisfied: configparser in c:\\users\\viji\\.conda\\envs\\pythondata\\lib\\site-packages (from webdriver-manager) (5.0.2)\n",
      "Requirement already satisfied: requests in c:\\users\\viji\\.conda\\envs\\pythondata\\lib\\site-packages (from webdriver-manager) (2.24.0)\n",
      "Requirement already satisfied: crayons in c:\\users\\viji\\.conda\\envs\\pythondata\\lib\\site-packages (from webdriver-manager) (0.4.0)\n",
      "Requirement already satisfied: idna<3,>=2.5 in c:\\users\\viji\\.conda\\envs\\pythondata\\lib\\site-packages (from requests->webdriver-manager) (2.10)\n",
      "Requirement already satisfied: certifi>=2017.4.17 in c:\\users\\viji\\.conda\\envs\\pythondata\\lib\\site-packages (from requests->webdriver-manager) (2020.6.20)\n",
      "Requirement already satisfied: urllib3!=1.25.0,!=1.25.1,<1.26,>=1.21.1 in c:\\users\\viji\\.conda\\envs\\pythondata\\lib\\site-packages (from requests->webdriver-manager) (1.25.11)\n",
      "Requirement already satisfied: chardet<4,>=3.0.2 in c:\\users\\viji\\.conda\\envs\\pythondata\\lib\\site-packages (from requests->webdriver-manager) (3.0.4)\n",
      "Requirement already satisfied: colorama in c:\\users\\viji\\.conda\\envs\\pythondata\\lib\\site-packages (from crayons->webdriver-manager) (0.4.4)\n",
      "\n"
     ]
    }
   ],
   "source": [
    "pip install webdriver-manager"
   ]
  },
  {
   "cell_type": "code",
   "execution_count": null,
   "metadata": {},
   "outputs": [],
   "source": []
  }
 ],
 "metadata": {
  "kernelspec": {
   "display_name": "Python 3",
   "language": "python",
   "name": "python3"
  },
  "language_info": {
   "codemirror_mode": {
    "name": "ipython",
    "version": 3
   },
   "file_extension": ".py",
   "mimetype": "text/x-python",
   "name": "python",
   "nbconvert_exporter": "python",
   "pygments_lexer": "ipython3",
   "version": "3.7.9"
  }
 },
 "nbformat": 4,
 "nbformat_minor": 4
}
